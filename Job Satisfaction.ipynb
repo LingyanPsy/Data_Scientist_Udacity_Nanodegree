{
 "cells": [
  {
   "cell_type": "markdown",
   "metadata": {},
   "source": [
    "#### Job Satisfaction\n",
    "\n",
    "In this notebook, you will be exploring job satisfaction according to the survey results.  Use the cells at the top of the notebook to explore as necessary, and use your findings to solve the questions at the bottom of the notebook."
   ]
  },
  {
   "cell_type": "code",
   "execution_count": 13,
   "metadata": {},
   "outputs": [
    {
     "data": {
      "text/plain": [
       "Index(['Respondent', 'Professional', 'ProgramHobby', 'Country', 'University',\n",
       "       'EmploymentStatus', 'FormalEducation', 'MajorUndergrad', 'HomeRemote',\n",
       "       'CompanySize',\n",
       "       ...\n",
       "       'StackOverflowMakeMoney', 'Gender', 'HighestEducationParents', 'Race',\n",
       "       'SurveyLong', 'QuestionsInteresting', 'QuestionsConfusing',\n",
       "       'InterestedAnswers', 'Salary', 'ExpectedSalary'],\n",
       "      dtype='object', length=154)"
      ]
     },
     "execution_count": 13,
     "metadata": {},
     "output_type": "execute_result"
    }
   ],
   "source": [
    "import pandas as pd\n",
    "import numpy as np\n",
    "import JobSatisfaction as t\n",
    "import matplotlib.pyplot as plt\n",
    "%matplotlib inline\n",
    "\n",
    "df = pd.read_csv('./survey_results_public.csv')\n",
    "schema = pd.read_csv('./survey_results_schema.csv')\n",
    "df.head()\n",
    "df.columns"
   ]
  },
  {
   "cell_type": "code",
   "execution_count": 4,
   "metadata": {},
   "outputs": [
    {
     "data": {
      "text/plain": [
       "0.20149722542142184"
      ]
     },
     "execution_count": 4,
     "metadata": {},
     "output_type": "execute_result"
    }
   ],
   "source": [
    "df['JobSatisfaction'].isnull().mean()"
   ]
  },
  {
   "cell_type": "code",
   "execution_count": 8,
   "metadata": {},
   "outputs": [
    {
     "data": {
      "text/plain": [
       "CompanySize\n",
       "1,000 to 4,999 employees    6.908506\n",
       "10 to 19 employees          7.035739\n",
       "10,000 or more employees    6.793617\n",
       "100 to 499 employees        7.029324\n",
       "20 to 99 employees          6.997039\n",
       "5,000 to 9,999 employees    6.832155\n",
       "500 to 999 employees        7.029967\n",
       "Fewer than 10 employees     7.025719\n",
       "I don't know                7.054622\n",
       "I prefer not to answer      7.284946\n",
       "Name: JobSatisfaction, dtype: float64"
      ]
     },
     "execution_count": 8,
     "metadata": {},
     "output_type": "execute_result"
    }
   ],
   "source": [
    "df['JobSatisfaction'].groupby(df['CompanySize']).mean()"
   ]
  },
  {
   "cell_type": "code",
   "execution_count": 11,
   "metadata": {},
   "outputs": [
    {
     "data": {
      "text/plain": [
       "EmploymentStatus\n",
       "Employed full-time                                      6.980608\n",
       "Employed part-time                                      6.846154\n",
       "I prefer not to say                                          NaN\n",
       "Independent contractor, freelancer, or self-employed    7.231985\n",
       "Not employed, and not looking for work                       NaN\n",
       "Not employed, but looking for work                           NaN\n",
       "Retired                                                      NaN\n",
       "Name: JobSatisfaction, dtype: float64"
      ]
     },
     "execution_count": 11,
     "metadata": {},
     "output_type": "execute_result"
    }
   ],
   "source": [
    "df['JobSatisfaction'].groupby(df['EmploymentStatus']).mean()"
   ]
  },
  {
   "cell_type": "code",
   "execution_count": null,
   "metadata": {},
   "outputs": [],
   "source": [
    "#Feel free to create new cells as you need them"
   ]
  },
  {
   "cell_type": "markdown",
   "metadata": {},
   "source": [
    "#### Question 1\n",
    "\n",
    "**1.** Use the space above to assist in matching each variable (**a**, **b**, **c**, **d**, **e**, **f**, **g**, or **h** ) as the appropriate key that describes the value in the **job_sol_1** dictionary."
   ]
  },
  {
   "cell_type": "code",
   "execution_count": 12,
   "metadata": {},
   "outputs": [
    {
     "name": "stdout",
     "output_type": "stream",
     "text": [
      "Nice job! That's what we found as well!\n"
     ]
    }
   ],
   "source": [
    "a = 0.734\n",
    "b = 0.2014\n",
    "c = 'full-time'\n",
    "d = 'contractors'\n",
    "e = 'retired'\n",
    "f = 'yes'\n",
    "g = 'no'\n",
    "h = 'hard to tell'\n",
    "\n",
    "job_sol_1 = {'The proportion of missing values in the Job Satisfaction column': b,\n",
    "             'According to EmploymentStatus, which group has the highest average job satisfaction?': d, \n",
    "             'In general, do smaller companies appear to have employees with higher job satisfaction?': f}\n",
    "             \n",
    "t.jobsat_check1(job_sol_1)"
   ]
  },
  {
   "cell_type": "markdown",
   "metadata": {},
   "source": [
    "#### Question 2\n",
    "\n",
    "**2.** Use the space above to assist in matching each variable (**a**, **b**, **c** ) as the appropriate key that describes the value in the **job_sol_2** dictionary. Notice you can have the same letter appear more than once."
   ]
  },
  {
   "cell_type": "code",
   "execution_count": 14,
   "metadata": {},
   "outputs": [
    {
     "data": {
      "text/plain": [
       "HomeRemote\n",
       "A few days each month                                      7.096694\n",
       "About half the time                                        7.125737\n",
       "All or almost all the time (I'm full-time remote)          7.405421\n",
       "It's complicated                                           6.942053\n",
       "Less than half the time, but at least one day each week    7.143786\n",
       "More than half, but not all, the time                      6.973684\n",
       "Never                                                      6.697127\n",
       "Name: JobSatisfaction, dtype: float64"
      ]
     },
     "execution_count": 14,
     "metadata": {},
     "output_type": "execute_result"
    }
   ],
   "source": [
    "df['JobSatisfaction'].groupby(df['HomeRemote']).mean().sort_values()"
   ]
  },
  {
   "cell_type": "code",
   "execution_count": 15,
   "metadata": {},
   "outputs": [
    {
     "data": {
      "text/plain": [
       "ProgramHobby\n",
       "No                                           6.874806\n",
       "Yes, I contribute to open source projects    7.158649\n",
       "Yes, I program as a hobby                    6.927150\n",
       "Yes, both                                    7.189316\n",
       "Name: JobSatisfaction, dtype: float64"
      ]
     },
     "execution_count": 15,
     "metadata": {},
     "output_type": "execute_result"
    }
   ],
   "source": [
    "df['JobSatisfaction'].groupby(df['ProgramHobby']).mean()"
   ]
  },
  {
   "cell_type": "code",
   "execution_count": 16,
   "metadata": {},
   "outputs": [
    {
     "data": {
      "text/plain": [
       "FormalEducation\n",
       "Bachelor's degree                                                    6.900293\n",
       "Doctoral degree                                                      7.438492\n",
       "I never completed any formal education                               7.000000\n",
       "I prefer not to answer                                               7.211679\n",
       "Master's degree                                                      6.977356\n",
       "Primary/elementary school                                            6.946237\n",
       "Professional degree                                                  7.075893\n",
       "Secondary school                                                     7.219512\n",
       "Some college/university study without earning a bachelor's degree    7.151268\n",
       "Name: JobSatisfaction, dtype: float64"
      ]
     },
     "execution_count": 16,
     "metadata": {},
     "output_type": "execute_result"
    }
   ],
   "source": [
    "df['JobSatisfaction'].groupby(df['FormalEducation']).mean()"
   ]
  },
  {
   "cell_type": "code",
   "execution_count": 17,
   "metadata": {},
   "outputs": [
    {
     "name": "stdout",
     "output_type": "stream",
     "text": [
      "Nice job! That's what we found as well!\n"
     ]
    }
   ],
   "source": [
    "a = 'yes'\n",
    "b = 'no'\n",
    "c = 'hard to tell'\n",
    "\n",
    "job_sol_2 = {'Do individuals who program outside of work appear to have higher JobSatisfaction?': a,\n",
    "             'Does flexibility to work outside of the office appear to have an influence on JobSatisfaction?': a, \n",
    "             'A friend says a Doctoral degree increases the chance of having job you like, does this seem true?': a}\n",
    "             \n",
    "t.jobsat_check2(job_sol_2)"
   ]
  },
  {
   "cell_type": "code",
   "execution_count": null,
   "metadata": {},
   "outputs": [],
   "source": []
  }
 ],
 "metadata": {
  "kernelspec": {
   "display_name": "Python 3",
   "language": "python",
   "name": "python3"
  },
  "language_info": {
   "codemirror_mode": {
    "name": "ipython",
    "version": 3
   },
   "file_extension": ".py",
   "mimetype": "text/x-python",
   "name": "python",
   "nbconvert_exporter": "python",
   "pygments_lexer": "ipython3",
   "version": "3.6.3"
  }
 },
 "nbformat": 4,
 "nbformat_minor": 2
}
